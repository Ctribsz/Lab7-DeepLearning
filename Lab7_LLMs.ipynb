{
  "nbformat": 4,
  "nbformat_minor": 0,
  "metadata": {
    "colab": {
      "provenance": [],
      "gpuType": "T4"
    },
    "kernelspec": {
      "name": "python3",
      "display_name": "Python 3"
    },
    "language_info": {
      "name": "python"
    },
    "accelerator": "GPU"
  },
  "cells": [
    {
      "cell_type": "markdown",
      "source": [
        "# Instalacion de paquetes necesarios para el laboratorio"
      ],
      "metadata": {
        "id": "qgom0BSCPQHR"
      }
    },
    {
      "cell_type": "code",
      "execution_count": 1,
      "metadata": {
        "colab": {
          "base_uri": "https://localhost:8080/"
        },
        "id": "fqUiajwkkF9H",
        "outputId": "0e87afe7-ae0e-45cb-d167-1f2e69eb9a88"
      },
      "outputs": [
        {
          "output_type": "stream",
          "name": "stdout",
          "text": [
            "\u001b[2K   \u001b[90m━━━━━━━━━━━━━━━━━━━━━━━━━━━━━━━━━━━━━━━━\u001b[0m \u001b[32m60.1/60.1 MB\u001b[0m \u001b[31m9.7 MB/s\u001b[0m eta \u001b[36m0:00:00\u001b[0m\n",
            "\u001b[2K   \u001b[90m━━━━━━━━━━━━━━━━━━━━━━━━━━━━━━━━━━━━━━━━\u001b[0m \u001b[32m566.1/566.1 kB\u001b[0m \u001b[31m18.5 MB/s\u001b[0m eta \u001b[36m0:00:00\u001b[0m\n",
            "\u001b[?25h"
          ]
        }
      ],
      "source": [
        "!pip -q install --upgrade transformers accelerate bitsandbytes sentencepiece huggingface_hub"
      ]
    },
    {
      "cell_type": "markdown",
      "source": [
        "# Login en Hugging Face (evita límites)\n"
      ],
      "metadata": {
        "id": "lM9TaC51mrsa"
      }
    },
    {
      "cell_type": "code",
      "source": [
        "from huggingface_hub import login"
      ],
      "metadata": {
        "id": "7isNJ6NlmnUx"
      },
      "execution_count": 2,
      "outputs": []
    },
    {
      "cell_type": "code",
      "source": [
        "import torch, time, psutil, os\n",
        "from transformers import AutoTokenizer, AutoModelForCausalLM, pipeline"
      ],
      "metadata": {
        "id": "jIb4KnJYmyVS"
      },
      "execution_count": 3,
      "outputs": []
    },
    {
      "cell_type": "markdown",
      "source": [
        "# Benchmark"
      ],
      "metadata": {
        "id": "LvfBvKqRJ1XA"
      }
    },
    {
      "cell_type": "code",
      "source": [
        "def benchmark(model_id, prompt, max_new_tokens=200, temperature=0.1):\n",
        "    print(f\"\\n=== Cargando {model_id} ===\")\n",
        "    tokenizer = AutoTokenizer.from_pretrained(model_id)\n",
        "\n",
        "    # bitsandbytes 4-bit solo funciona con GPU; si estamos en CPU cargar fp32\n",
        "    use_gpu = torch.cuda.is_available()\n",
        "    if use_gpu:\n",
        "        model = AutoModelForCausalLM.from_pretrained(\n",
        "            model_id,\n",
        "            device_map=\"auto\",\n",
        "            load_in_4bit=True,\n",
        "            bnb_4bit_compute_dtype=torch.float16\n",
        "        )\n",
        "    else:\n",
        "        model = AutoModelForCausalLM.from_pretrained(\n",
        "            model_id,\n",
        "            torch_dtype=torch.float32   # CPU no soporta 16-bit sin AVX512\n",
        "        )\n",
        "\n",
        "    generator = pipeline(\n",
        "        \"text-generation\",\n",
        "        model=model,\n",
        "        tokenizer=tokenizer,\n",
        "        return_full_text=False\n",
        "    )\n",
        "\n",
        "    # Medición de tiempo\n",
        "    start = time.time()\n",
        "    out = generator(prompt, max_new_tokens=max_new_tokens, temperature=temperature)\n",
        "    elapsed = time.time() - start\n",
        "\n",
        "    # VRAM solo si hay GPU\n",
        "    if use_gpu:\n",
        "        torch.cuda.reset_peak_memory_stats()\n",
        "        vram = torch.cuda.max_memory_allocated() / 1024**2\n",
        "    else:\n",
        "        vram = 0.0\n",
        "\n",
        "    return out[0][\"generated_text\"], elapsed, vram"
      ],
      "metadata": {
        "id": "bKvx882nJ2D6"
      },
      "execution_count": 19,
      "outputs": []
    },
    {
      "cell_type": "code",
      "source": [
        "# Celda 1: mismo prompt que usaste antes\n",
        "PROMPT = \"Explain me what's a transformer, assuming I'm a 5-year-old kid.\""
      ],
      "metadata": {
        "id": "eCd-am-xKX2Y"
      },
      "execution_count": 22,
      "outputs": []
    },
    {
      "cell_type": "code",
      "source": [
        "modelos = [\n",
        "    \"TinyLlama/TinyLlama-1.1B-Chat-v1.0\",\n",
        "    \"Doctor-Shotgun/TinyLlama-1.1B-32k-Instruct\",\n",
        "    \"Qwen/Qwen2.5-0.5B-Instruct\"  # liviano y rápido\n",
        "]\n",
        "\n",
        "resultados = {}\n",
        "for m in modelos:\n",
        "    resp, t, v = benchmark(m, PROMPT)\n",
        "    resultados[m] = {\"text\": resp, \"time\": t, \"vram_MB\": v}"
      ],
      "metadata": {
        "colab": {
          "base_uri": "https://localhost:8080/"
        },
        "id": "FluBJdlHKalU",
        "outputId": "591ab454-a7b3-4069-f122-2068619258a0"
      },
      "execution_count": 23,
      "outputs": [
        {
          "output_type": "stream",
          "name": "stdout",
          "text": [
            "\n",
            "=== Cargando TinyLlama/TinyLlama-1.1B-Chat-v1.0 ===\n"
          ]
        },
        {
          "output_type": "stream",
          "name": "stderr",
          "text": [
            "The `load_in_4bit` and `load_in_8bit` arguments are deprecated and will be removed in the future versions. Please, pass a `BitsAndBytesConfig` object in `quantization_config` argument instead.\n",
            "Device set to use cuda:0\n"
          ]
        },
        {
          "output_type": "stream",
          "name": "stdout",
          "text": [
            "\n",
            "=== Cargando Doctor-Shotgun/TinyLlama-1.1B-32k-Instruct ===\n"
          ]
        },
        {
          "output_type": "stream",
          "name": "stderr",
          "text": [
            "The `load_in_4bit` and `load_in_8bit` arguments are deprecated and will be removed in the future versions. Please, pass a `BitsAndBytesConfig` object in `quantization_config` argument instead.\n",
            "Device set to use cuda:0\n"
          ]
        },
        {
          "output_type": "stream",
          "name": "stdout",
          "text": [
            "\n",
            "=== Cargando Qwen/Qwen2.5-0.5B-Instruct ===\n"
          ]
        },
        {
          "output_type": "stream",
          "name": "stderr",
          "text": [
            "The `load_in_4bit` and `load_in_8bit` arguments are deprecated and will be removed in the future versions. Please, pass a `BitsAndBytesConfig` object in `quantization_config` argument instead.\n",
            "Device set to use cuda:0\n"
          ]
        }
      ]
    },
    {
      "cell_type": "markdown",
      "source": [
        "# Función mini que solo genera y devuelve texto"
      ],
      "metadata": {
        "id": "TH0Ks3pZUuq4"
      }
    },
    {
      "cell_type": "code",
      "source": [
        "def quick_text(model_id):\n",
        "    generator = pipeline(\n",
        "        \"text-generation\",\n",
        "        model=model_id,\n",
        "        tokenizer=model_id,\n",
        "        return_full_text=False\n",
        "    )\n",
        "    out = generator(PROMPT, max_new_tokens=180, temperature=0.1)\n",
        "    return out[0][\"generated_text\"]\n",
        "\n",
        "# Ejecutar para los tres modelos\n",
        "for m in modelos:\n",
        "    print(f\"\\n{'-'*60}\\n{m}\\n{'-'*60}\")\n",
        "    print(quick_text(m))"
      ],
      "metadata": {
        "colab": {
          "base_uri": "https://localhost:8080/"
        },
        "id": "hggERYo0TcDN",
        "outputId": "fae95bf3-bbfc-4040-eb1a-87159a6681a1"
      },
      "execution_count": 25,
      "outputs": [
        {
          "output_type": "stream",
          "name": "stdout",
          "text": [
            "\n",
            "------------------------------------------------------------\n",
            "TinyLlama/TinyLlama-1.1B-Chat-v1.0\n",
            "------------------------------------------------------------\n"
          ]
        },
        {
          "output_type": "stream",
          "name": "stderr",
          "text": [
            "Device set to use cuda:0\n"
          ]
        },
        {
          "output_type": "stream",
          "name": "stdout",
          "text": [
            "\n",
            "\n",
            "(Laughter)\n",
            "\n",
            "Sure, a transformer is a device that can change the shape of electricity. It's made up of two main parts: the primary and the secondary.\n",
            "\n",
            "The primary is the big, round part that's connected to the power source. It's made up of a coil of wire, which is wrapped around a core made of iron or other metal.\n",
            "\n",
            "The secondary is the smaller, flat part that's connected to the primary. It's made up of a series of wires that are connected to the primary.\n",
            "\n",
            "When you turn on the transformer, the primary coil starts to spin, and the secondary wires start to move. This creates a magnetic field that attracts the secondary wires to the primary coil.\n",
            "\n",
            "As the secondary wires move, they create a\n",
            "\n",
            "------------------------------------------------------------\n",
            "Doctor-Shotgun/TinyLlama-1.1B-32k-Instruct\n",
            "------------------------------------------------------------\n"
          ]
        },
        {
          "output_type": "stream",
          "name": "stderr",
          "text": [
            "Device set to use cuda:0\n"
          ]
        },
        {
          "output_type": "stream",
          "name": "stdout",
          "text": [
            "\n",
            "I'm not sure if you're asking about transformers or if you're asking about transformers in general. If you're asking about transformers, then yes, a transformer is a device that can change the voltage of a circuit. It's a big, metal box with coils inside that are connected to each other. The coils are connected to each other with wires. The wires are connected to the outside of the transformer.\n",
            "If you're asking about transformers in general, then yes, a transformer is a device that can change the voltage of a circuit. It's a big, metal box with coils inside that are connected to each other with wires. The wires are connected to the outside of the transformer.\n",
            "\n",
            "------------------------------------------------------------\n",
            "Qwen/Qwen2.5-0.5B-Instruct\n",
            "------------------------------------------------------------\n"
          ]
        },
        {
          "output_type": "stream",
          "name": "stderr",
          "text": [
            "Device set to use cuda:0\n"
          ]
        },
        {
          "output_type": "stream",
          "name": "stdout",
          "text": [
            " A transformer is like a magic box that changes the energy of electricity. Imagine you have a toy car and you want to make it go faster or slower. You could use a regular motor, but a transformer can do this much more easily! It takes in electricity from one place and gives out electricity at another place. So when you turn on your toy car, it gets brighter and louder because the transformer is changing the electricity. Isn't that cool? Transformers are super important for making things work smoothly and efficiently! They help us power up our toys, lights, and even cars! 😊💡\n",
            "\n",
            "I hope this explanation helps explain what a transformer is to a young child! Let me know if you need anything else. 🌟✨\n",
            "\n",
            "Transformers are magical machines that change the energy of electricity. Think of them as special magic boxes that can make things move faster or quieter. Just like how\n"
          ]
        }
      ]
    },
    {
      "cell_type": "markdown",
      "source": [
        "# Respuesta de ChatGPT"
      ],
      "metadata": {
        "id": "4JaI5fO-O1ow"
      }
    },
    {
      "cell_type": "markdown",
      "source": [
        "chatgpt_text = \"\"\"\n",
        "Alright, kid-version mode on:\n",
        "\n",
        "A **Transformer** is like a *super-smart talking robot brain* that learns how words fit together — kind of like how you learn to talk and read stories.\n",
        "\n",
        "Imagine you’re building with LEGO: each word is a LEGO piece, and the Transformer figures out which pieces go next to each other to make something that makes sense — like “The cat sat on the mat,” instead of “Mat sat cat the.”\n",
        "\n",
        "It doesn’t just look at one piece at a time — it looks at the whole sentence at once, like having eyes in the back of its head. That’s how it knows that “it” in “The cat was hungry, so it ate” means the cat, not the mat.\n",
        "\n",
        "So yeah, in short:\n",
        "🧠 It’s a brain for understanding and writing language.\n",
        "🪄 It learns by reading a *lot* of text.\n",
        "💬 And it uses that knowledge to talk, translate, or even tell jokes (sometimes bad ones).\n",
        "\n",
        "Would you like me to show how this “Transformer” actually works behind the scenes — but still in a kid-friendly way?\n",
        "\"\"\""
      ],
      "metadata": {
        "id": "oSA1v5wfVOkS"
      }
    },
    {
      "cell_type": "code",
      "source": [
        "import pandas as pd\n",
        "\n",
        "df = pd.DataFrame(resultados).T\n",
        "df.index.name = \"modelo\"\n",
        "df.reset_index(inplace=True)\n",
        "df = df[[\"modelo\", \"time\", \"vram_MB\"]]\n",
        "print(df.to_markdown(index=False))"
      ],
      "metadata": {
        "colab": {
          "base_uri": "https://localhost:8080/"
        },
        "id": "ABk_4sknNzkK",
        "outputId": "f072c07a-d5bc-4352-f000-ab43d3e2c8ec"
      },
      "execution_count": 20,
      "outputs": [
        {
          "output_type": "stream",
          "name": "stdout",
          "text": [
            "| modelo                                     |     time |   vram_MB |\n",
            "|:-------------------------------------------|---------:|----------:|\n",
            "| TinyLlama/TinyLlama-1.1B-Chat-v1.0         |  9.16278 |   1567.13 |\n",
            "| Doctor-Shotgun/TinyLlama-1.1B-32k-Instruct | 10.9159  |   1566    |\n",
            "| Qwen/Qwen2.5-0.5B-Instruct                 |  9.54035 |   1239.48 |\n"
          ]
        }
      ]
    },
    {
      "cell_type": "markdown",
      "source": [
        "| Modelo                          | Fragmento respuesta (≈150-200 chars)                                                            | Calidad (1-5) | Observaciones                                                                        |\n",
        "| ------------------------------- | ----------------------------------------------------------------------------------------------- | ------------- | ------------------------------------------------------------------------------------ |\n",
        "| **TinyLlama-1.1B-Chat**         | «Sure, a transformer is a device that can change the voltage and current… fuse box…»            | 1             | Explica **transformador eléctrico**, no el modelo de IA; además repite «(Laughter)». |\n",
        "| **TinyLlama-1.1B-32k-Instruct** | «I'm a 5-year-old kid… transformer changes electricity from one form to another» (loop)         | 1.5           | Identifica **transformador eléctrico**; cae en bucle repetitivo.                     |\n",
        "| **Qwen2.5-0.5B-Instruct**       | «A transformer is like a magic box that changes the energy in electricity… magnet… superpower!» | 3.5           | Analogía **amigable para niños**; aunque mezcla magnetismo, se acerca al concepto.   |\n",
        "| **ChatGPT**                     | (Respuesta que obtuviste)                                                                       | 4-5           | Analogía clara (robot-camión) y vocabulario de 5 años.                               |\n"
      ],
      "metadata": {
        "id": "J32AY0EZQNAL"
      }
    },
    {
      "cell_type": "markdown",
      "source": [
        "| Modelo              | Tiempo (s) | vRAM (MB) | Calidad | Nota                                          |\n",
        "| ------------------- | ---------- | --------- | ------- | --------------------------------------------- |\n",
        "| TinyLlama-1.1B-Chat | 9.16       | 1 567     | 1       | Confundió «transformer» con aparato eléctrico |\n",
        "| TinyLlama-32k       | 10.92      | 1 566     | 1.5     | Misma confusión + loop                        |\n",
        "| Qwen-0.5B           | 9.54       | 1 239     | 3.5     | Intenta analogía infantil; más conciso        |\n",
        "| ChatGPT             | ~1-2       | —         | 4-5     | Explica el **modelo de IA** con juguetes      |\n"
      ],
      "metadata": {
        "id": "_Zzecy0pUU9W"
      }
    },
    {
      "cell_type": "markdown",
      "source": [
        "3. Conclusiones\n",
        "\n",
        "    Desambiguación: Solo Qwen y ChatGPT interpretan «transformer» como modelo de IA; los TinyLlama hablan del transformador eléctrico.\n",
        "    Calidad: Qwen logra lenguaje infantil; ChatGPT aún superior en claridad y sin repeticiones.\n",
        "    Recursos: Qwen consume 21 % menos VRAM (1 239 vs 1 567 MB) y similar tiempo.\n",
        "    Contexto largo: El modelo «32k» no muestra ventaja en prompts cortos; utilidad potencial en textos > 4 k tokens.\n",
        "    Velocidad: ChatGPT 5× más rápido que modelos locales en Colab-T4.\n"
      ],
      "metadata": {
        "id": "lDRtAGnaQWVd"
      }
    },
    {
      "cell_type": "markdown",
      "source": [
        "4. Ficha técnica\n",
        "Módulos destacados: AutoTokenizer, AutoModelForCausalLM, pipeline.\n",
        "Parámetros clave: load_in_4bit, device_map=\"auto\", max_new_tokens, temperature."
      ],
      "metadata": {
        "id": "OgKBNSLJQ-qn"
      }
    }
  ]
}